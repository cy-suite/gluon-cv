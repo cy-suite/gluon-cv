{
  "nbformat": 4,
  "nbformat_minor": 0,
  "metadata": {
    "colab": {
      "name": "onnx_classification_inference.ipynb",
      "provenance": [],
      "collapsed_sections": [],
      "authorship_tag": "ABX9TyNbjqGvWUoTF7Bz6ToQhWqe",
      "include_colab_link": true
    },
    "kernelspec": {
      "name": "python3",
      "display_name": "Python 3"
    }
  },
  "cells": [
    {
      "cell_type": "markdown",
      "metadata": {
        "id": "view-in-github",
        "colab_type": "text"
      },
      "source": [
        "<a href=\"https://colab.research.google.com/github/yinweisu/gluon-cv/blob/onnx/tools/onnx/notebooks/onnx_classification_inference.ipynb\" target=\"_parent\"><img src=\"https://colab.research.google.com/assets/colab-badge.svg\" alt=\"Open In Colab\"/></a>"
      ]
    },
    {
      "cell_type": "code",
      "metadata": {
        "colab": {
          "base_uri": "https://localhost:8080/"
        },
        "id": "L02zKM66TbSU",
        "outputId": "dfd43c07-7c26-4098-bc21-c656910f0904"
      },
      "source": [
        "!pip3 install --upgrade numpy mxnet gluoncv onnxruntime"
      ],
      "execution_count": null,
      "outputs": [
        {
          "output_type": "stream",
          "text": [
            "Requirement already up-to-date: numpy in /usr/local/lib/python3.7/dist-packages (1.20.1)\n",
            "Requirement already up-to-date: mxnet in /usr/local/lib/python3.7/dist-packages (1.7.0.post2)\n",
            "Requirement already up-to-date: gluoncv in /usr/local/lib/python3.7/dist-packages (0.9.4.post1)\n",
            "Requirement already up-to-date: onnxruntime in /usr/local/lib/python3.7/dist-packages (1.7.0)\n",
            "Requirement already satisfied, skipping upgrade: requests<3,>=2.20.0 in /usr/local/lib/python3.7/dist-packages (from mxnet) (2.23.0)\n",
            "Requirement already satisfied, skipping upgrade: graphviz<0.9.0,>=0.8.1 in /usr/local/lib/python3.7/dist-packages (from mxnet) (0.8.4)\n",
            "Requirement already satisfied, skipping upgrade: pyyaml in /usr/local/lib/python3.7/dist-packages (from gluoncv) (3.13)\n",
            "Requirement already satisfied, skipping upgrade: portalocker in /usr/local/lib/python3.7/dist-packages (from gluoncv) (2.2.1)\n",
            "Requirement already satisfied, skipping upgrade: opencv-python in /usr/local/lib/python3.7/dist-packages (from gluoncv) (4.1.2.30)\n",
            "Requirement already satisfied, skipping upgrade: autogluon.core in /usr/local/lib/python3.7/dist-packages (from gluoncv) (0.1.0)\n",
            "Requirement already satisfied, skipping upgrade: autocfg in /usr/local/lib/python3.7/dist-packages (from gluoncv) (0.0.8)\n",
            "Requirement already satisfied, skipping upgrade: tensorboardx in /usr/local/lib/python3.7/dist-packages (from gluoncv) (2.1)\n",
            "Requirement already satisfied, skipping upgrade: matplotlib in /usr/local/lib/python3.7/dist-packages (from gluoncv) (3.2.2)\n",
            "Requirement already satisfied, skipping upgrade: tqdm in /usr/local/lib/python3.7/dist-packages (from gluoncv) (4.41.1)\n",
            "Requirement already satisfied, skipping upgrade: scipy in /usr/local/lib/python3.7/dist-packages (from gluoncv) (1.4.1)\n",
            "Requirement already satisfied, skipping upgrade: decord in /usr/local/lib/python3.7/dist-packages (from gluoncv) (0.5.2)\n",
            "Requirement already satisfied, skipping upgrade: pandas in /usr/local/lib/python3.7/dist-packages (from gluoncv) (1.1.5)\n",
            "Requirement already satisfied, skipping upgrade: Pillow in /usr/local/lib/python3.7/dist-packages (from gluoncv) (7.0.0)\n",
            "Requirement already satisfied, skipping upgrade: yacs in /usr/local/lib/python3.7/dist-packages (from gluoncv) (0.1.8)\n",
            "Requirement already satisfied, skipping upgrade: protobuf in /usr/local/lib/python3.7/dist-packages (from onnxruntime) (3.12.4)\n",
            "Requirement already satisfied, skipping upgrade: idna<3,>=2.5 in /usr/local/lib/python3.7/dist-packages (from requests<3,>=2.20.0->mxnet) (2.10)\n",
            "Requirement already satisfied, skipping upgrade: urllib3!=1.25.0,!=1.25.1,<1.26,>=1.21.1 in /usr/local/lib/python3.7/dist-packages (from requests<3,>=2.20.0->mxnet) (1.24.3)\n",
            "Requirement already satisfied, skipping upgrade: chardet<4,>=3.0.2 in /usr/local/lib/python3.7/dist-packages (from requests<3,>=2.20.0->mxnet) (3.0.4)\n",
            "Requirement already satisfied, skipping upgrade: certifi>=2017.4.17 in /usr/local/lib/python3.7/dist-packages (from requests<3,>=2.20.0->mxnet) (2020.12.5)\n",
            "Requirement already satisfied, skipping upgrade: dask>=2.6.0 in /usr/local/lib/python3.7/dist-packages (from autogluon.core->gluoncv) (2.12.0)\n",
            "Requirement already satisfied, skipping upgrade: cython in /usr/local/lib/python3.7/dist-packages (from autogluon.core->gluoncv) (0.29.22)\n",
            "Requirement already satisfied, skipping upgrade: boto3 in /usr/local/lib/python3.7/dist-packages (from autogluon.core->gluoncv) (1.17.21)\n",
            "Requirement already satisfied, skipping upgrade: distributed>=2.6.0 in /usr/local/lib/python3.7/dist-packages (from autogluon.core->gluoncv) (2021.2.0)\n",
            "Requirement already satisfied, skipping upgrade: scikit-learn<0.25,>=0.22.0 in /usr/local/lib/python3.7/dist-packages (from autogluon.core->gluoncv) (0.22.2.post1)\n",
            "Requirement already satisfied, skipping upgrade: tornado>=5.0.1 in /usr/local/lib/python3.7/dist-packages (from autogluon.core->gluoncv) (5.1.1)\n",
            "Requirement already satisfied, skipping upgrade: paramiko>=2.4 in /usr/local/lib/python3.7/dist-packages (from autogluon.core->gluoncv) (2.7.2)\n",
            "Requirement already satisfied, skipping upgrade: autograd>=1.3 in /usr/local/lib/python3.7/dist-packages (from autogluon.core->gluoncv) (1.3)\n",
            "Requirement already satisfied, skipping upgrade: dill==0.3.3 in /usr/local/lib/python3.7/dist-packages (from autogluon.core->gluoncv) (0.3.3)\n",
            "Requirement already satisfied, skipping upgrade: ConfigSpace==0.4.18 in /usr/local/lib/python3.7/dist-packages (from autogluon.core->gluoncv) (0.4.18)\n",
            "Requirement already satisfied, skipping upgrade: six in /usr/local/lib/python3.7/dist-packages (from tensorboardx->gluoncv) (1.15.0)\n",
            "Requirement already satisfied, skipping upgrade: python-dateutil>=2.1 in /usr/local/lib/python3.7/dist-packages (from matplotlib->gluoncv) (2.8.1)\n",
            "Requirement already satisfied, skipping upgrade: cycler>=0.10 in /usr/local/lib/python3.7/dist-packages (from matplotlib->gluoncv) (0.10.0)\n",
            "Requirement already satisfied, skipping upgrade: pyparsing!=2.0.4,!=2.1.2,!=2.1.6,>=2.0.1 in /usr/local/lib/python3.7/dist-packages (from matplotlib->gluoncv) (2.4.7)\n",
            "Requirement already satisfied, skipping upgrade: kiwisolver>=1.0.1 in /usr/local/lib/python3.7/dist-packages (from matplotlib->gluoncv) (1.3.1)\n",
            "Requirement already satisfied, skipping upgrade: pytz>=2017.2 in /usr/local/lib/python3.7/dist-packages (from pandas->gluoncv) (2018.9)\n",
            "Requirement already satisfied, skipping upgrade: setuptools in /usr/local/lib/python3.7/dist-packages (from protobuf->onnxruntime) (54.0.0)\n",
            "Requirement already satisfied, skipping upgrade: s3transfer<0.4.0,>=0.3.0 in /usr/local/lib/python3.7/dist-packages (from boto3->autogluon.core->gluoncv) (0.3.4)\n",
            "Requirement already satisfied, skipping upgrade: jmespath<1.0.0,>=0.7.1 in /usr/local/lib/python3.7/dist-packages (from boto3->autogluon.core->gluoncv) (0.10.0)\n",
            "Requirement already satisfied, skipping upgrade: botocore<1.21.0,>=1.20.21 in /usr/local/lib/python3.7/dist-packages (from boto3->autogluon.core->gluoncv) (1.20.21)\n",
            "Requirement already satisfied, skipping upgrade: toolz>=0.8.2 in /usr/local/lib/python3.7/dist-packages (from distributed>=2.6.0->autogluon.core->gluoncv) (0.11.1)\n",
            "Requirement already satisfied, skipping upgrade: cloudpickle>=1.5.0 in /usr/local/lib/python3.7/dist-packages (from distributed>=2.6.0->autogluon.core->gluoncv) (1.6.0)\n",
            "Requirement already satisfied, skipping upgrade: tblib>=1.6.0 in /usr/local/lib/python3.7/dist-packages (from distributed>=2.6.0->autogluon.core->gluoncv) (1.7.0)\n",
            "Requirement already satisfied, skipping upgrade: click>=6.6 in /usr/local/lib/python3.7/dist-packages (from distributed>=2.6.0->autogluon.core->gluoncv) (7.1.2)\n",
            "Requirement already satisfied, skipping upgrade: psutil>=5.0 in /usr/local/lib/python3.7/dist-packages (from distributed>=2.6.0->autogluon.core->gluoncv) (5.4.8)\n",
            "Requirement already satisfied, skipping upgrade: zict>=0.1.3 in /usr/local/lib/python3.7/dist-packages (from distributed>=2.6.0->autogluon.core->gluoncv) (2.0.0)\n",
            "Requirement already satisfied, skipping upgrade: sortedcontainers!=2.0.0,!=2.0.1 in /usr/local/lib/python3.7/dist-packages (from distributed>=2.6.0->autogluon.core->gluoncv) (2.3.0)\n",
            "Requirement already satisfied, skipping upgrade: msgpack>=0.6.0 in /usr/local/lib/python3.7/dist-packages (from distributed>=2.6.0->autogluon.core->gluoncv) (1.0.2)\n",
            "Requirement already satisfied, skipping upgrade: joblib>=0.11 in /usr/local/lib/python3.7/dist-packages (from scikit-learn<0.25,>=0.22.0->autogluon.core->gluoncv) (1.0.1)\n",
            "Requirement already satisfied, skipping upgrade: cryptography>=2.5 in /usr/local/lib/python3.7/dist-packages (from paramiko>=2.4->autogluon.core->gluoncv) (3.4.6)\n",
            "Requirement already satisfied, skipping upgrade: pynacl>=1.0.1 in /usr/local/lib/python3.7/dist-packages (from paramiko>=2.4->autogluon.core->gluoncv) (1.4.0)\n",
            "Requirement already satisfied, skipping upgrade: bcrypt>=3.1.3 in /usr/local/lib/python3.7/dist-packages (from paramiko>=2.4->autogluon.core->gluoncv) (3.2.0)\n",
            "Requirement already satisfied, skipping upgrade: future>=0.15.2 in /usr/local/lib/python3.7/dist-packages (from autograd>=1.3->autogluon.core->gluoncv) (0.16.0)\n",
            "Requirement already satisfied, skipping upgrade: heapdict in /usr/local/lib/python3.7/dist-packages (from zict>=0.1.3->distributed>=2.6.0->autogluon.core->gluoncv) (1.0.1)\n",
            "Requirement already satisfied, skipping upgrade: cffi>=1.12 in /usr/local/lib/python3.7/dist-packages (from cryptography>=2.5->paramiko>=2.4->autogluon.core->gluoncv) (1.14.5)\n",
            "Requirement already satisfied, skipping upgrade: pycparser in /usr/local/lib/python3.7/dist-packages (from cffi>=1.12->cryptography>=2.5->paramiko>=2.4->autogluon.core->gluoncv) (2.20)\n"
          ],
          "name": "stdout"
        }
      ]
    },
    {
      "cell_type": "code",
      "metadata": {
        "id": "GvsyrkSDTv9D"
      },
      "source": [
        "import numpy as np\n",
        "import onnxruntime as rt\n",
        "import mxnet as mx\n",
        "import gluoncv as gcv\n",
        "import urllib.request\n",
        "import os\n",
        "import csv\n",
        "from ast import literal_eval"
      ],
      "execution_count": null,
      "outputs": []
    },
    {
      "cell_type": "code",
      "metadata": {
        "id": "OZVHhW--T6T9"
      },
      "source": [
        "def fetch_model_and_shape(model_name):\n",
        "  model_list_link = 'Not Ready Yet'\n",
        "  model_list_fn = 'model_list.csv'\n",
        "  urllib.request.urlretrieve(model_list_link, filename=model_list_fn)\n",
        "  with open(model_list_fn, 'r') as csvfile:\n",
        "    csv_reader = csv.reader(csvfile, delimiter=',')\n",
        "    for row in csv_reader:\n",
        "        mtype, mname, mshape, mlink = row[0], row[1], row[2], row[3]\n",
        "        if mname == model_name:\n",
        "          if mtype != 'Obj Classification':\n",
        "            raise Exception(f'{mtype} not supported. Please checkout the corresponding notebook')\n",
        "          onnx_model_fn = model_name+'.onnx'\n",
        "          urllib.request.urlretrieve(mlink, filename=onnx_model_fn)\n",
        "          break\n",
        "  return onnx_model_fn, literal_eval(mshape)\n",
        "\n",
        "def prepare_img(img_url, input_shape):\n",
        "  # input_shape: BHWC\n",
        "  height, width = input_shape[1], input_shape[2]\n",
        "  urllib.request.urlretrieve(img_url)\n",
        "  img_name = os.path.basename(img_url)\n",
        "  img = mx.image.imread(img_name)\n",
        "  img = mx.image.imresize(img, width, height)\n",
        "  img = img.expand_dims(0).astype('float32')\n",
        "\n",
        "  return img\n",
        "\n",
        "def prepare_label(model_name):\n",
        "  net = gcv.model_zoo.get_model(model_name, pretrained=True)\n",
        "  return net.classes\n"
      ],
      "execution_count": null,
      "outputs": []
    },
    {
      "cell_type": "markdown",
      "metadata": {
        "id": "cqnBGR1rcel_"
      },
      "source": [
        "Prepare the data: \n",
        "\n",
        "**Make sure to replace model and the image you want to use**"
      ]
    },
    {
      "cell_type": "code",
      "metadata": {
        "id": "R5LilSxAVWGh"
      },
      "source": [
        "model_name = 'resnet18_v1'\n",
        "model, input_shape = fetch_model_and_shape(model_name)\n",
        "img_url = 'https://raw.githubusercontent.com/dmlc/web-data/master/gluoncv/classification/mt_baker.jpg'\n",
        "img = prepare_img(img_url, input_shape)\n",
        "labels = prepare_label(model_name)"
      ],
      "execution_count": null,
      "outputs": []
    },
    {
      "cell_type": "code",
      "metadata": {
        "id": "8IHHAsiQblhw"
      },
      "source": [
        "# Create a onnx inference session and get the input name\n",
        "onnx_session = rt.InferenceSession(model, None)\n",
        "input_name = onnx_session.get_inputs()[0].name\n",
        "# Make prediction\n",
        "pred = onnx_session.run([], {input_name: img.asnumpy()})[0]\n",
        "prob = mx.nd.softmax(pred)[0].asnumpy()\n",
        "# find the 5 class indices with the highest score\n",
        "ind = mx.nd.topk(pred, k=5)[0].astype('int').asnumpy().tolist()\n",
        "# print the class name and predicted probability\n",
        "print('The input picture is classified to be')\n",
        "for i in range(5):\n",
        "    print('- [%s], with probability %.3f.'%(labels[ind[i]], prob[ind[i]]))"
      ],
      "execution_count": null,
      "outputs": []
    }
  ]
}