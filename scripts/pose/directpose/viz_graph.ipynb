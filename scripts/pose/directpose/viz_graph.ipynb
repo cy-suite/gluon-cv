{
 "cells": [
  {
   "cell_type": "code",
   "execution_count": 1,
   "id": "improving-richmond",
   "metadata": {},
   "outputs": [],
   "source": [
    "from gluoncv.torch import model_zoo\n",
    "from gluoncv.torch.engine.config import get_cfg_defaults\n",
    "import torch\n",
    "import tvm\n",
    "from tvm import relay\n",
    "from torchviz import make_dot, make_dot_from_trace"
   ]
  },
  {
   "cell_type": "code",
   "execution_count": 2,
   "id": "assisted-trial",
   "metadata": {},
   "outputs": [],
   "source": [
    "cfg = get_cfg_defaults()\n",
    "cfg.merge_from_file('./configurations/ms_dla_34_4x_syncbn.yaml')\n",
    "net = model_zoo.dla34_fpn_directpose(cfg).cuda().eval()\n",
    "model = torch.load('model_final.pth')['model']\n",
    "net.load_state_dict(model, strict=False)\n",
    "images = torch.zeros(1, 3, 512, 512).cuda()\n",
    "# y = net(images)"
   ]
  },
  {
   "cell_type": "code",
   "execution_count": 5,
   "id": "composed-commerce",
   "metadata": {
    "scrolled": false
   },
   "outputs": [],
   "source": [
    "dot = make_dot(net(images), params=dict(net.named_parameters()))"
   ]
  },
  {
   "cell_type": "code",
   "execution_count": 6,
   "id": "other-piece",
   "metadata": {},
   "outputs": [
    {
     "data": {
      "text/plain": [
       "'./digraph.png'"
      ]
     },
     "execution_count": 6,
     "metadata": {},
     "output_type": "execute_result"
    }
   ],
   "source": [
    "dot.format = 'png'\n",
    "dot.view(filename='digraph', directory='./')"
   ]
  },
  {
   "cell_type": "code",
   "execution_count": null,
   "id": "intensive-acrobat",
   "metadata": {},
   "outputs": [],
   "source": []
  }
 ],
 "metadata": {
  "kernelspec": {
   "display_name": "Python 3",
   "language": "python",
   "name": "python3"
  },
  "language_info": {
   "codemirror_mode": {
    "name": "ipython",
    "version": 3
   },
   "file_extension": ".py",
   "mimetype": "text/x-python",
   "name": "python",
   "nbconvert_exporter": "python",
   "pygments_lexer": "ipython3",
   "version": "3.7.9"
  }
 },
 "nbformat": 4,
 "nbformat_minor": 5
}
